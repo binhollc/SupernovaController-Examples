{
 "cells": [
  {
   "cell_type": "code",
   "execution_count": 2,
   "metadata": {},
   "outputs": [],
   "source": [
    "# Import Python package\n",
    "import queue\n",
    "from threading import Event\n",
    "\n",
    "from supernovacontroller.sequential import SupernovaDevice\n",
    "from supernovacontroller.sequential.i3c import SupernovaI3CBlockingInterface"
   ]
  },
  {
   "cell_type": "markdown",
   "metadata": {},
   "source": [
    "## Getting started"
   ]
  },
  {
   "attachments": {},
   "cell_type": "markdown",
   "metadata": {},
   "source": [
    "#### 1. Create an instance of the Supernova class\n",
    "\n",
    "To utilize a Supernova USB host adapter device, we need to create an instance of the Supernova Device class."
   ]
  },
  {
   "cell_type": "code",
   "execution_count": 3,
   "metadata": {},
   "outputs": [],
   "source": [
    "# Create a device instance. One instance of the Supernova class represents a Supernova USB host adapter device.\n",
    "device = SupernovaDevice()"
   ]
  },
  {
   "cell_type": "markdown",
   "metadata": {},
   "source": [
    "#### 2. Open connection to the Supernova device\n",
    "\n",
    "The public method ``Supernova.open()`` establishes the connection with a Supernova device. Below is the complete signature:\n",
    "\n",
    "```python\n",
    "open(usb_address : str)\n",
    "```\n",
    "- ``usb_address: str``: The OS HID path assigned to the device. This can be obtained using the ``device.getAllConnectedSupernovaDevices()`` method."
   ]
  },
  {
   "cell_type": "code",
   "execution_count": 4,
   "metadata": {},
   "outputs": [
    {
     "data": {
      "text/plain": [
       "{'hw_version': 'C',\n",
       " 'fw_version': '2.4.0',\n",
       " 'serial_number': '0A071E8504C72D59A5FFE0350EDD2A9E',\n",
       " 'manufacturer': 'Binho LLC',\n",
       " 'product_name': 'Binho Supernova'}"
      ]
     },
     "execution_count": 4,
     "metadata": {},
     "output_type": "execute_result"
    }
   ],
   "source": [
    "# Use the method by default to connect to only one connected Supernova device.\n",
    "device.open()"
   ]
  },
  {
   "attachments": {},
   "cell_type": "markdown",
   "metadata": {},
   "source": [
    "#### 3. Define and register a callback to handle responses and notifications from Supernova\n",
    "\n",
    "To handle notifications from Supernova, a callback function must be defined and registered with a filter to identify the notification. This function will be invoked every time the Supernova sends a response to a request, an asynchronous notification, or a message from the system.\n",
    "\n",
    "The callback function's signature is as follows: \n",
    "\n",
    "``def on_notification(self, name : str, filter_func : callable, handler_func : callable) -> None:``"
   ]
  },
  {
   "cell_type": "code",
   "execution_count": 5,
   "metadata": {},
   "outputs": [],
   "source": [
    "caught_ibis = queue.SimpleQueue()\n",
    "caught_hot_join = Event()\n",
    "pic_hot_joined_info = {}\n",
    "\n",
    "# IBI configuration\n",
    "def is_ibi(name, message):\n",
    "    return message['name'].strip() == \"I3C IBI NOTIFICATION\" and message['header']['type'] == \"IBI_NORMAL\" and message['MDB']['value'] != 2\n",
    "\n",
    "def handle_ibi(name, message):\n",
    "    global caught_ibis\n",
    "    ibi_info = {'dynamic_address': message['header']['address'],  'controller_response': message['header']['response'], 'mdb':message['payload'][0], 'payload':message['payload'][1:]}\n",
    "    caught_ibis.put(ibi_info)\n",
    "\n",
    "device.on_notification(name=\"ibi\", filter_func=is_ibi, handler_func=handle_ibi)\n",
    "\n",
    "def is_hot_join_ibi(name, message):\n",
    "    return message['name'].strip() == \"I3C IBI NOTIFICATION\" and message['header']['type'] == \"IBI_HOT_JOIN\"\n",
    "\n",
    "def handle_hot_join_ibi(name, message):\n",
    "    global caught_hot_join\n",
    "    global pic_hot_joined_info\n",
    "    pic_hot_joined_info = {'dynamic_address': message['header']['address'], 'bcr': message['bcr'], 'dcr': message['dcr'], 'pid': message['pid']}\n",
    "    caught_hot_join.set()\n",
    "\n",
    "device.on_notification(name=\"hot_join\", filter_func=is_hot_join_ibi, handler_func=handle_hot_join_ibi)"
   ]
  },
  {
   "cell_type": "markdown",
   "metadata": {},
   "source": [
    "#### 4. Initialize the I3C interface\n",
    "\n",
    "To operate I3C over the Supernova we must initialize the interface."
   ]
  },
  {
   "cell_type": "code",
   "execution_count": 6,
   "metadata": {},
   "outputs": [],
   "source": [
    "i3c : SupernovaI3CBlockingInterface = device.create_interface(\"i3c.controller\")"
   ]
  },
  {
   "attachments": {},
   "cell_type": "markdown",
   "metadata": {},
   "source": [
    "## I3C Protocol API"
   ]
  },
  {
   "cell_type": "markdown",
   "metadata": {},
   "source": [
    "### 1. Configuring the supernova/PIC18QF16Q20/I2C FRAM Setup"
   ]
  },
  {
   "cell_type": "markdown",
   "metadata": {},
   "source": [
    "To facilitate the Protocol Translator test:\n",
    "\n",
    "**Necessary Firmware:**\n",
    "- Supernova firmware version 2.0.0\n",
    "- Supernova SDK version 2.0.0\n",
    "- Custom image for the PIC18QF16Q20 protocol translator (located in the application folder)\n",
    "\n",
    "**Connection Arrangement:**\n",
    "\n",
    "<img src=\"assets/block_diagram.png\" alt=\"connection\" width=\"60%\">\n",
    "\n",
    "<img src=\"assets/connection.png\" alt=\"connection_diagram\" width=\"40%\">\n",
    "\n",
    "- Link the supernova High voltage I3C tiger eye to Qwiic connector with the I3C Qwiic connector on the Supernova PIC18QF16Q20 board.\n",
    "- Establish connections for SDA and SCL from the I2C/I3C Qwiic connector on the Supernova PIC18QF16Q20 board to the corresponding SCL/SDA channels of the I2C FRAM.\n",
    "- Connect VCC and GND from the I2C Qwiic on the Supernova to the VCC and GND of the I2C FRAM.\n",
    "\n",
    "   ![Connection Image Placeholder]\n",
    "\n",
    "**Testing Procedure:**\n",
    "\n",
    "The objective of this test is to utilize the PIC18QF16Q20 as a protocol translator, issuing custom I3C commands to execute the following transactions:\n",
    "- I2C write\n",
    "\n",
    "\n",
    "<img src=\"assets/i2c_write.png\" alt=\"connection\" width=\"80%\">\n",
    "\n",
    "- I2C read\n",
    "\n",
    "![I2C_read](assets/i2c_read.png)\n",
    "\n",
    "- SPI write\n",
    "\n",
    "![SPI_write](assets/spi_write.png)\n",
    "\n",
    "- SPI read\n",
    "\n",
    "![SPI_read](assets/spi_read.png)\n",
    "\n",
    "- SPI write followed by read\n",
    "\n",
    "<img src=\"assets/spi_write_read.png\" alt=\"connection\" width=\"70%\">\n",
    "\n",
    "\n",
    "For I2C transactions, an I2C FRAM will be employed for data read and write operations. To assess SPI functionality, the Supernova PIC18QF16Q20 board integrates a W25Q64JV (64M-bit) SPI Serial Flash, allowing for the execution of commands and read/write operations."
   ]
  },
  {
   "cell_type": "markdown",
   "metadata": {},
   "source": [
    "### 2. Initialize the Supernova I3C peripheral as controller \n",
    "\n",
    "We set up the bus parameters Push Pull and Open Drain Frequencies aswell as the voltage to be utilized.  \n",
    "Once configured we can initialize the bus and with it, initialize the Supernova as a controller."
   ]
  },
  {
   "cell_type": "code",
   "execution_count": 7,
   "metadata": {},
   "outputs": [
    {
     "data": {
      "text/plain": [
       "(False, {'errors': ['NACK_ERROR']})"
      ]
     },
     "execution_count": 7,
     "metadata": {},
     "output_type": "execute_result"
    }
   ],
   "source": [
    "i3c.set_parameters(i3c.I3cPushPullTransferRate.PUSH_PULL_3_75_MHZ, i3c.I3cOpenDrainTransferRate.OPEN_DRAIN_500_KHZ)\n",
    "i3c.set_bus_voltage(1200)\n",
    "i3c.init_bus()"
   ]
  },
  {
   "cell_type": "markdown",
   "metadata": {},
   "source": [
    "### 3. Hot Joining the PIC18QF16Q20\n",
    "\n",
    "Once the I3C Bus has been set up, we can hot-join the PIC18QF16Q20 to start using it. \n",
    "\n",
    "When ready, run the following cell and whilst it is runnning connect the PIC18QF16Q20"
   ]
  },
  {
   "cell_type": "code",
   "execution_count": 8,
   "metadata": {},
   "outputs": [
    {
     "name": "stdout",
     "output_type": "stream",
     "text": [
      "Awaiting PIC Hot Join\n",
      "(True, [{'static_address': 0, 'dynamic_address': 8, 'bcr': 30, 'dcr': 198, 'pid': ['0x06', '0x9a', '0x00', '0x00', '0x00', '0x00']}])\n"
     ]
    }
   ],
   "source": [
    "# Initialize and scan the I3C bus.\n",
    "print(\"Awaiting PIC Hot Join\")\n",
    "successful_hotjoin = caught_hot_join.wait(15)\n",
    "\n",
    "if not successful_hotjoin:\n",
    "    print(\"Could not hot join PIC, timeout exceeded\")\n",
    "    reading_ibi = \"NOTHING\"\n",
    "\n",
    "pic_dynamic_address = int(pic_hot_joined_info['dynamic_address'])\n",
    "\n",
    "print(i3c.targets())"
   ]
  },
  {
   "cell_type": "markdown",
   "metadata": {},
   "source": [
    "### 4. Communicate with the I2C peripheral"
   ]
  },
  {
   "cell_type": "markdown",
   "metadata": {},
   "source": [
    "To verify the proper functionality of the I2C FRAM, we will execute the following transactions:\n",
    "\n",
    "1. **I2C Write Transaction:**\n",
    "   - Write data [0x06,0x07,0x08,0x09,0x0A] to the register [0x00,0x00].\n",
    "\n",
    "2. **I2C Write to Specific Register:**\n",
    "   - Direct an I2C write to the register [0x00,0x00].\n",
    "\n",
    "3. **I2C Read Transaction:**\n",
    "   - Perform an I2C read of length 5 to retrieve the previously written data.\n",
    "\n",
    "For this we will define the registers and data to be utilized"
   ]
  },
  {
   "cell_type": "code",
   "execution_count": 9,
   "metadata": {},
   "outputs": [],
   "source": [
    "ADDRESS_TO_WRITE_READ = 0x50\n",
    "SHIFTED_ADDRESS = ADDRESS_TO_WRITE_READ << 1\n",
    "REGISTER_TO_WRITE_READ = [0x00, 0x00]\n",
    "DATA_TO_WRITE = [0x06, 0x07, 0x08, 0x09, 0x0A]\n",
    "BYTES_TO_READ = 0x05\n",
    "\n",
    "PIC_I2C_WRITE_COMMAND = 0x40\n",
    "PIC_I2C_READ_COMMAND = 0x20"
   ]
  },
  {
   "cell_type": "markdown",
   "metadata": {},
   "source": [
    "> Note that the target we will be utilizing has the address `0x50`, but to use it through the PIC18QF16Q20 we must shift it by 1 bit "
   ]
  },
  {
   "cell_type": "markdown",
   "metadata": {},
   "source": [
    "#### Execution Steps:"
   ]
  },
  {
   "cell_type": "markdown",
   "metadata": {},
   "source": [
    "To write to I2C we must execute an I3C write to the dynamic address of the PIC18QF16Q20 (0x08). \n",
    "In the data to be written we will include:\n",
    "   - Command ID for the I2C write command (0x40)\n",
    "   - I2C address right-shifted by one (original address: 0x50, shifted address: 0xA0)\n",
    "   - Register to write to [0x00, 0x00]\n",
    "   - Data to be written [0x06,0x07,0x08,0x09,0x0A]\n",
    "All these data we defined previously, so the write command is as simple as folows:"
   ]
  },
  {
   "cell_type": "code",
   "execution_count": 10,
   "metadata": {},
   "outputs": [
    {
     "name": "stdout",
     "output_type": "stream",
     "text": [
      "Write at Register 00 00 data 06 07 08 09 0A : SUCCESS\n"
     ]
    }
   ],
   "source": [
    "(success, _) = i3c.write(pic_dynamic_address, i3c.TransferMode.I3C_SDR, [], [PIC_I2C_WRITE_COMMAND, SHIFTED_ADDRESS] + REGISTER_TO_WRITE_READ + DATA_TO_WRITE)\n",
    "print(\"Write at Register 00 00 data 06 07 08 09 0A :\", \"SUCCESS\" if success else \"FAIL\")"
   ]
  },
  {
   "cell_type": "markdown",
   "metadata": {},
   "source": [
    "For the second transaction, resetting the data pointer to the [0x00, 0x00] register is achieved by performing a write with the following data:\n",
    "   - Command ID for the I2C write command (0x40)\n",
    "   - I2C address right-shifted by one (original address: 0x50, shifted address: 0xA0)\n",
    "   - Register to write to [0x00,0x00]\n",
    "   - Empty data payload"
   ]
  },
  {
   "cell_type": "code",
   "execution_count": 11,
   "metadata": {},
   "outputs": [
    {
     "name": "stdout",
     "output_type": "stream",
     "text": [
      "Reset data pointer to 00 00 SUCCESS\n"
     ]
    }
   ],
   "source": [
    "(success, _) = i3c.write(pic_dynamic_address, i3c.TransferMode.I3C_SDR, [], [PIC_I2C_WRITE_COMMAND, SHIFTED_ADDRESS] + REGISTER_TO_WRITE_READ)\n",
    "print(\"Reset data pointer to 00 00\", \"SUCCESS\" if success else \"FAIL\")"
   ]
  },
  {
   "cell_type": "markdown",
   "metadata": {},
   "source": [
    "For the final transaction, executing a read command involves sending the following I3C data:\n",
    "\n",
    "   - Command ID for the I2C read command (0x20)\n",
    "   - I2C address right-shifted by one (original address: 0x50, shifted address: 0xA0)\n",
    "   - Amount of data to read (0x05)\n",
    "\n",
    "This initiates an I2C read to the designated address with the specified length. The data resulting from this read will be received via I3C in an IBI with payload. This IBI includes a mandatory data byte of 0x00, and the remaining payload constituting the read data.\n",
    "\n",
    "With how we have configured the IBIs previously, we can just wait until we get one and see its contents."
   ]
  },
  {
   "cell_type": "code",
   "execution_count": 12,
   "metadata": {},
   "outputs": [
    {
     "name": "stdout",
     "output_type": "stream",
     "text": [
      "Read 5 bytes SUCCESS\n",
      "Read from I2C target: {'dynamic_address': 8, 'controller_response': 'IBI_ACKED_WITH_PAYLOAD', 'mdb': 0, 'payload': [6, 7, 8, 9, 10, 0, 0, 0, 0, 0, 0, 0, 0, 0, 0, 0, 0, 0, 0, 0, 0, 0, 0, 0, 0, 0, 0, 0, 0, 0, 0, 0, 0, 0, 0, 0, 0, 0, 0, 0, 0, 0, 0, 0, 0, 0, 0, 0, 0, 0, 0, 0]}\n"
     ]
    }
   ],
   "source": [
    "(success, _) = i3c.write(pic_dynamic_address, i3c.TransferMode.I3C_SDR, [], [PIC_I2C_READ_COMMAND, SHIFTED_ADDRESS, BYTES_TO_READ])\n",
    "print(\"Read 5 bytes\", \"SUCCESS\" if success else \"FAIL\")\n",
    "\n",
    "try:\n",
    "    reading_ibi = caught_ibis.get(timeout=3)\n",
    "except queue.Empty:\n",
    "    print(\"Did not catch any IBI readings, is everything properly connected?\")\n",
    "    reading_ibi = \"NOTHING\"\n",
    "\n",
    "print(\"Read from I2C target:\", reading_ibi)"
   ]
  },
  {
   "cell_type": "markdown",
   "metadata": {},
   "source": [
    "## 5. Communicate with the SPI peripheral"
   ]
  },
  {
   "cell_type": "markdown",
   "metadata": {},
   "source": [
    "To validate the SPI communication, we will execute specific SPI commands tailored for the Supernova PIC18QF16Q20 board's SPI FLASH. Here are some examples:\n",
    "\n",
    "1. **Get JEDEC ID:**\n",
    "   - Execute the command to retrieve the JEDEC ID from the SPI FLASH.\n",
    "\n",
    "2. **Write Status Register-1:**\n",
    "   - Perform the command to write to Status Register-1.\n",
    "\n",
    "3. **Read Status Register-1:**\n",
    "   - Execute the command to read from Status Register-1.\n",
    "\n",
    "These commands will allow us to assess the SPI communication and validate the Supernova PIC18QF16Q20 board's interaction with the SPI FLASH.  \n",
    "For this we will define the following constants"
   ]
  },
  {
   "cell_type": "code",
   "execution_count": 13,
   "metadata": {},
   "outputs": [],
   "source": [
    "\n",
    "SPI_WRITE_ENABLE_COMMAND = 0x06\n",
    "SPI_READ_STATUS_REGISTER1_COMMAND = 0x05\n",
    "SPI_GET_JEDEC_COMMAND = 0x9F\n",
    "SPI_STATUS_REGISTER1 = 0x01\n",
    "\n",
    "DATA_TO_WRITE = 0x60\n",
    "BYTES_TO_READ = 0x03\n",
    "\n",
    "PIC_SPI_WRITE_READ_COMMAND = 0x60\n",
    "PIC_SPI_READ_COMMAND = 0x21\n",
    "PIC_SPI_WRITE_COMMAND = 0x41"
   ]
  },
  {
   "cell_type": "markdown",
   "metadata": {},
   "source": [
    "To obtain the JEDEC ID, the SPI command 0x9F should be issued via SPI, followed by reading 3 bytes of data. To accomplish this, the write/read SPI command (0x60) for the PIC18QF16Q20 should be utilized, requiring the following data to be sent via I3C:\n",
    "\n",
    "- Command ID for the SPI write/read command (0x60)\n",
    "- Amount of data to read (0x03)\n",
    "- Data to write (the SPI command for getting JEDEC ID 0x9F)\n",
    "\n",
    "Similar to the I2C read transaction, once the data is retrieved via SPI, an IBI will be sent via I3C with the mandatory data byte (MDB) set to 0x00 and the 3 bytes of read data."
   ]
  },
  {
   "cell_type": "code",
   "execution_count": 14,
   "metadata": {},
   "outputs": [
    {
     "name": "stdout",
     "output_type": "stream",
     "text": [
      "Read JEDEC ID: SUCCESS\n",
      "Read from SPI target: {'dynamic_address': 8, 'controller_response': 'IBI_ACKED_WITH_PAYLOAD', 'mdb': 0, 'payload': [239, 64, 23, 0, 0, 0, 0, 0, 0, 0, 0, 0, 0, 0, 0, 0, 0, 0, 0, 0, 0, 0, 0, 0, 0, 0, 0, 0, 0, 0, 0, 0, 0, 0, 0, 0, 0, 0, 0, 0, 0, 0, 0, 0, 0, 0, 0, 0, 0, 0, 0, 0]}\n"
     ]
    }
   ],
   "source": [
    "(success, _) = i3c.write(pic_dynamic_address, i3c.TransferMode.I3C_SDR, [], [PIC_SPI_WRITE_READ_COMMAND, BYTES_TO_READ, SPI_GET_JEDEC_COMMAND])\n",
    "print(\"Read JEDEC ID:\", \"SUCCESS\" if success else \"FAIL\")\n",
    "\n",
    "try:\n",
    "    reading_ibi = caught_ibis.get(timeout=3)\n",
    "except queue.Empty:\n",
    "    print(\"Did not catch any new IBI readings, is everything properly connected?\")\n",
    "    exit(1)\n",
    "\n",
    "print(\"Read from SPI target:\", reading_ibi)\n"
   ]
  },
  {
   "cell_type": "markdown",
   "metadata": {},
   "source": [
    "To perform the Write Status Register-1 SPI command, we need to first enable write transactions by issuing the Write Enable command (0x06). The necessary data to be sent via I3C includes:\n",
    "\n",
    "- Command ID for the SPI write command (0x41)\n",
    "- Data to write (the SPI Write Enable command value 0x06)"
   ]
  },
  {
   "cell_type": "code",
   "execution_count": 15,
   "metadata": {},
   "outputs": [
    {
     "name": "stdout",
     "output_type": "stream",
     "text": [
      "Enable writing in the Memory via Write Enable SUCCESS\n"
     ]
    }
   ],
   "source": [
    "(success, _) = i3c.write(pic_dynamic_address, i3c.TransferMode.I3C_SDR, [], [PIC_SPI_WRITE_COMMAND, SPI_WRITE_ENABLE_COMMAND])\n",
    "print(\"Enable writing in the Memory via Write Enable\", \"SUCCESS\" if success else \"FAIL\")"
   ]
  },
  {
   "cell_type": "markdown",
   "metadata": {},
   "source": [
    "To execute the Write Status Register-1 SPI command, the requisite data to be sent via I3C includes:\n",
    "\n",
    "- Command ID for the SPI write command (0x41)\n",
    "- Data to write\n",
    "    - Write Status Register-1 SPI command (0x01)\n",
    "    - Data to be written to the register (0x60)\n",
    "\n",
    "Configuring the Register-1 with the value 0x60 involves setting:\n",
    "\n",
    "\n",
    "\n",
    "![I2C_read](assets/Register.png)\n",
    "\n",
    "- SEC to 1: Block Protect Bits (BP2, BP1, BP0) protect 4KB Sectors.\n",
    "- TB to 1: Block Protect Bits (BP2, BP1, BP0) protect from the Bottom.\n",
    "\n",
    "\n",
    "\n",
    "\n"
   ]
  },
  {
   "cell_type": "code",
   "execution_count": 16,
   "metadata": {},
   "outputs": [
    {
     "name": "stdout",
     "output_type": "stream",
     "text": [
      "Write in SPI Status Register data SUCCESS\n"
     ]
    }
   ],
   "source": [
    "(success, _) = i3c.write(pic_dynamic_address, i3c.TransferMode.I3C_SDR, [], [PIC_SPI_WRITE_COMMAND, SPI_STATUS_REGISTER1, DATA_TO_WRITE])\n",
    "print(\"Write in SPI Status Register data\", \"SUCCESS\" if success else \"FAIL\")"
   ]
  },
  {
   "cell_type": "markdown",
   "metadata": {},
   "source": [
    "To execute the Read Status Register-1 SPI command, the following I3C data must be transmitted:\n",
    "\n",
    "- Command ID for the SPI write/read command (0x60)\n",
    "- Amount of data to read (0x01 from the register) \n",
    "- Data to write (SPI command for reading the Status Register-1, 0x05)\n",
    "\n",
    "Similar to the previous transactions, the data from the Status Register-1 value is transmitted via IBI on the I3C bus. As configured earlier, the expected value should be 0x60."
   ]
  },
  {
   "cell_type": "code",
   "execution_count": 17,
   "metadata": {},
   "outputs": [
    {
     "name": "stdout",
     "output_type": "stream",
     "text": [
      "Read in SPI Memory SUCCESS\n",
      "Read from SPI target: {'dynamic_address': 8, 'controller_response': 'IBI_ACKED_WITH_PAYLOAD', 'mdb': 0, 'payload': [96, 0, 0, 0, 0, 0, 0, 0, 0, 0, 0, 0, 0, 0, 0, 0, 0, 0, 0, 0, 0, 0, 0, 0, 0, 0, 0, 0, 0, 0, 0, 0, 0, 0, 0, 0, 0, 0, 0, 0, 0, 0, 0, 0, 0, 0, 0, 0, 0, 0, 0, 0]}\n"
     ]
    }
   ],
   "source": [
    "(success, _) = i3c.write(pic_dynamic_address, i3c.TransferMode.I3C_SDR, [], [PIC_SPI_WRITE_READ_COMMAND, SPI_STATUS_REGISTER1, SPI_READ_STATUS_REGISTER1_COMMAND])\n",
    "print(\"Read in SPI Memory\", \"SUCCESS\" if success else \"FAIL\")\n",
    "\n",
    "try:\n",
    "    reading_ibi = caught_ibis.get(timeout=3)\n",
    "except queue.Empty:\n",
    "    print(\"Did not catch any new IBI readings, is everything properly connected?\")\n",
    "    reading_ibi = \"NOTHING\"\n",
    "\n",
    "print(\"Read from SPI target:\", reading_ibi)"
   ]
  }
 ],
 "metadata": {
  "kernelspec": {
   "display_name": "Python 3",
   "language": "python",
   "name": "python3"
  },
  "language_info": {
   "codemirror_mode": {
    "name": "ipython",
    "version": 3
   },
   "file_extension": ".py",
   "mimetype": "text/x-python",
   "name": "python",
   "nbconvert_exporter": "python",
   "pygments_lexer": "ipython3",
   "version": "3.11.0b4"
  },
  "orig_nbformat": 4
 },
 "nbformat": 4,
 "nbformat_minor": 2
}
