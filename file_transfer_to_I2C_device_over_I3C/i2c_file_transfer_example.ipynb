{
 "cells": [
  {
   "cell_type": "code",
   "execution_count": 1,
   "metadata": {},
   "outputs": [],
   "source": [
    "# Includes\n",
    "from supernovacontroller.sequential import SupernovaDevice\n",
    "from BinhoSupernova.commands.definitions import *"
   ]
  },
  {
   "cell_type": "markdown",
   "metadata": {},
   "source": [
    "## Getting Started\n",
    "\n",
    "#### 1. Create an instance of the Supernova class\n",
    "To utilize a Supernova USB host adapter device, we need to create an instance of the Supernova class."
   ]
  },
  {
   "cell_type": "code",
   "execution_count": 2,
   "metadata": {},
   "outputs": [],
   "source": [
    "supernova = SupernovaDevice()"
   ]
  },
  {
   "cell_type": "markdown",
   "metadata": {},
   "source": [
    "#### 2. Open connection to the Supernova device\n",
    "\n",
    "The public method ``Supernova.open()`` establishes the connection with a Supernova device. Below is the complete signature:\n",
    "\n",
    "```python\n",
    "open(usb_address)\n",
    "```\n",
    "\n",
    "- ``usb_address: str (optional)``: The OS HID path assigned to the device. This can be obtained using the ``supernovacontroller.getConnectedSupernovaDevicesList()`` method. The ``usb_address`` parameter is currently the only way to uniquely identify each Supernova device. Therefore, it is recommended to use the ``usb_address`` parameter, especially when opening connections with more than one Supernova device simultaneously."
   ]
  },
  {
   "cell_type": "code",
   "execution_count": 3,
   "metadata": {},
   "outputs": [
    {
     "name": "stdout",
     "output_type": "stream",
     "text": [
      "{'hw_version': 'C', 'fw_version': '2.5.0-58-7f09388', 'serial_number': '99DEAFA5B575B453A98225EE6456C318', 'manufacturer': 'Binho LLC', 'product_name': 'Binho Supernova'}\n"
     ]
    }
   ],
   "source": [
    "info = supernova.open()\n",
    "print(info)"
   ]
  },
  {
   "cell_type": "markdown",
   "metadata": {},
   "source": [
    "## I3C Protocol API"
   ]
  },
  {
   "cell_type": "markdown",
   "metadata": {},
   "source": [
    "\n",
    "### 1. Configuring the Supernova/I2C FRAM Setup\n",
    "\n",
    "To facilitate the I2C over I3C file transfer test:\n",
    "\n",
    "**Necessary Firmware:**\n",
    "- Supernova firmware version 2.4.0\n",
    "- Supernova SDK version 2.2.0\n",
    "- Supernova Controller version 1.4.0\n",
    "\n",
    "**Connection Arrangement:**\n",
    "\n",
    "<img src=\"assets/I2C over I3C connection.png\" alt=\"connection_diagram\" width=\"40%\">\n",
    "\n",
    "**Testing Procedure:**\n",
    "\n",
    "The objective of this test is to load a text file, save it in an I2C FRAM memory, read the I2C FRAM, and store the data into a new text file that can be used to compare contents. I3C with legacy I2C device compatibility will be used to communicate with the I2C FRAM.\n",
    "\n",
    "To load the file and write the data to the I2C FRAM, the flowchart diagram is the following:\n",
    "\n",
    "<img src=\"assets/Write Flowchart.png\" alt=\"write_diagram\" width=\"30%\">\n",
    "\n",
    "To retrieve the data from the I2C FRAM, the flowchart diagram is the following:\n",
    "\n",
    "<img src=\"assets/Read Flowchart.png\" alt=\"read_diagram\" width=\"30%\">\n"
   ]
  },
  {
   "cell_type": "markdown",
   "metadata": {},
   "source": [
    "### 1. Load the text file to transfer\n",
    "\n",
    "The I2C FRAM supports storing up to 32KB of data. Because of this limitation, the created text file has a size of approximately 30KB and contains the text \"Binho Supernova Demo\" repeated over and over.\n",
    "\n",
    "For the data to be transferred, the code must transformed into bytes, the ASCII representation of the letters.\n"
   ]
  },
  {
   "cell_type": "code",
   "execution_count": 4,
   "metadata": {},
   "outputs": [],
   "source": [
    "# Read the file contents\n",
    "with open(\"Binho_Supernova_Demo.txt\", \"r\") as file:\n",
    "    file_content = file.read()\n",
    "\n",
    "# Convert the content into bytes\n",
    "file_bytes = file_content.encode('utf-8')"
   ]
  },
  {
   "cell_type": "markdown",
   "metadata": {},
   "source": [
    "### 2. Create interface to manage the Supernova I3C peripheral as controller \n"
   ]
  },
  {
   "cell_type": "markdown",
   "metadata": {},
   "source": [
    "To use any protocol with the Supernova Controller package, the user must create a new interface for the desired protocol. In this case, the demo calls for I3C, and since the Supernova will be the controller of the bus, the \"i3c.controller\" interface must be used."
   ]
  },
  {
   "cell_type": "code",
   "execution_count": 5,
   "metadata": {},
   "outputs": [],
   "source": [
    "i3c = supernova.create_interface(\"i3c.controller\")"
   ]
  },
  {
   "cell_type": "markdown",
   "metadata": {},
   "source": [
    "### 3. Setting up I3C bus parameters and initializing the I3C bus\n",
    "\n",
    "Since the Supernova will be communicating with an I2C target, the open drain frequency must be supported by I2C devices, in this case, 1MHz. The push-pull frequency can be set but will not be used for any of the transactions to the I2C device.\n"
   ]
  },
  {
   "cell_type": "code",
   "execution_count": 6,
   "metadata": {},
   "outputs": [],
   "source": [
    "i3c.set_parameters(I3cPushPullTransferRate.PUSH_PULL_3_75_MHZ, I2cTransferRate._1MHz)\n",
    "(success, _) = i3c.init_bus(voltage = 3300)"
   ]
  },
  {
   "cell_type": "markdown",
   "metadata": {},
   "source": [
    "### 4. Send the data via I3C\n",
    "\n",
    "To write the data via I3C, the text file is divided into 64-byte sections. Since the I2C FRAM target requires a memory subaddress for the data to be written to, an auxiliary method is used to convert the starting position of each section into a subaddress. This subaddress is then used to correctly place each 64-byte section in the I2C FRAM memory."
   ]
  },
  {
   "cell_type": "markdown",
   "metadata": {},
   "source": [
    "#### Define the value to the 2-byte address auxiliary function"
   ]
  },
  {
   "cell_type": "code",
   "execution_count": 7,
   "metadata": {},
   "outputs": [],
   "source": [
    "def number_to_bytes(num):\n",
    "    # Ensure the number fits within 2 bytes\n",
    "    if num < 0 or num > 0xFFFF:\n",
    "        raise ValueError(\"Number out of range for 2 bytes\")\n",
    "\n",
    "    # Convert the number to a 2-byte array\n",
    "    byte1 = (num >> 8) & 0xFF  # MSB\n",
    "    byte2 = num & 0xFF         # LSB\n",
    "\n",
    "    return [byte1, byte2]"
   ]
  },
  {
   "cell_type": "markdown",
   "metadata": {},
   "source": [
    "#### Write the file contents via I3C to the I2C FRAM target"
   ]
  },
  {
   "cell_type": "code",
   "execution_count": 8,
   "metadata": {},
   "outputs": [
    {
     "name": "stdout",
     "output_type": "stream",
     "text": [
      "Start the file transfer\n",
      "Finished the file transfer\n"
     ]
    }
   ],
   "source": [
    "# Initialize variables\n",
    "package_size = 64\n",
    "file_length = len(file_bytes)\n",
    "total_packages = (file_length + package_size - 1) // package_size  # Total packages needed\n",
    "\n",
    "I2C_FRAM_ADDRESS = 0x50\n",
    "\n",
    "print(\"Start the file transfer\")\n",
    "# Load and send 64-byte arrays\n",
    "for i in range(total_packages):\n",
    "    start = i * package_size\n",
    "    end = start + package_size\n",
    "\n",
    "    # Convert the starting position to a 2-byte array\n",
    "    subaddress_array = number_to_bytes(start) \n",
    "    \n",
    "    # Section the text file into a package_size section list\n",
    "    bytes_to_send = list(file_bytes[start:end])\n",
    "\n",
    "    # Send the bytes_to_send via I3C \n",
    "    (success, _) = i3c.write(target_address = I2C_FRAM_ADDRESS, mode = TransferMode.I2C_MODE, subaddress = subaddress_array, buffer= bytes_to_send)\n",
    "    \n",
    "    # Handle errors while writing the \n",
    "    if not success:\n",
    "        # Handle the write failure (e.g., retry or abort)\n",
    "        print(\"I2C write failed!\")\n",
    "        break\n",
    "\n",
    "print(\"Finished the file transfer\")"
   ]
  },
  {
   "cell_type": "markdown",
   "metadata": {},
   "source": [
    "### 5. Retrieve the FRAM data and store a new text file\n",
    "\n",
    "To read the data via I3C, the memory is accessed in 250-byte sections. The process calculates the remaining bytes to be read and adjusts the section size accordingly. Each section is then read from the I2C FRAM, and the retrieved data is appended to a bytearray. This continues until all the data is successfully read, after which the complete data is saved to a text file in ASCII format."
   ]
  },
  {
   "cell_type": "markdown",
   "metadata": {},
   "source": [
    "#### Move the I2C FRAM memory pointer to address [0x00, 0x00], which is the starting address of the previously stored text file data"
   ]
  },
  {
   "cell_type": "code",
   "execution_count": 9,
   "metadata": {},
   "outputs": [],
   "source": [
    "(success, _) = i3c.write(target_address = I2C_FRAM_ADDRESS, mode = TransferMode.I2C_MODE, subaddress = [0x00, 0x00], buffer= [])"
   ]
  },
  {
   "cell_type": "markdown",
   "metadata": {},
   "source": [
    "#### Read 30KB worth of data from the I2C FRAM"
   ]
  },
  {
   "cell_type": "code",
   "execution_count": 10,
   "metadata": {},
   "outputs": [
    {
     "name": "stdout",
     "output_type": "stream",
     "text": [
      "Start the FRAM read\n",
      "Finished the FRAM read\n"
     ]
    }
   ],
   "source": [
    "# Initialize variables\n",
    "total_bytes_to_read = file_length\n",
    "read_size = 250\n",
    "bytes_read = 0\n",
    "read_data = bytearray()  # To store the data read from the I2C FRAM\n",
    "\n",
    "print(\"Start the FRAM read\")\n",
    "\n",
    "# Loop to read data in 250-byte sections\n",
    "while bytes_read < total_bytes_to_read:\n",
    "    # Calculate the remaining bytes\n",
    "    remaining_bytes = total_bytes_to_read - bytes_read\n",
    "\n",
    "    # Calculate the amount of bytes to read\n",
    "    bytes_to_read = min(read_size, remaining_bytes)  \n",
    "    \n",
    "    # Read the I2C FRAM memory\n",
    "    success, data = i3c.read(target_address = I2C_FRAM_ADDRESS,  mode = TransferMode.I2C_MODE, length = bytes_to_read , subaddress = [])\n",
    "    \n",
    "    if success:\n",
    "        # Append the data to the complete read_data bytearray\n",
    "        read_data.extend(data)\n",
    "        \n",
    "        # Update the count of bytes read\n",
    "        bytes_read += len(data)\n",
    "    else:\n",
    "        # Handle the read failure (e.g., retry or abort)\n",
    "        print(\"I2C read failed!\")\n",
    "        break\n",
    "\n",
    "print(\"Finished the FRAM read\")"
   ]
  },
  {
   "cell_type": "markdown",
   "metadata": {},
   "source": [
    "#### Store the read data in the \"I2C_Read_Binho_Supernova_Demo.txt\" file"
   ]
  },
  {
   "cell_type": "code",
   "execution_count": 11,
   "metadata": {},
   "outputs": [],
   "source": [
    "# Write the read data to a new text file in ASCII format\n",
    "output_file = \"I2C_Read_Binho_Supernova_Demo.txt\"\n",
    "with open(output_file, \"w\") as file:\n",
    "    # Convert the bytearray to a string and write to the file\n",
    "    file.write(read_data.decode('utf-8'))"
   ]
  },
  {
   "cell_type": "markdown",
   "metadata": {},
   "source": [
    "#### 7. Compare the original text file with the retrieved one from the I2C FRAM.\n",
    "\n",
    "To do this, access any text file comparator, upload the original, read the text files, and search for differences.\n",
    "\n",
    "For testing purposes this can be done in VSCode executing the following cell to compare both files:"
   ]
  },
  {
   "cell_type": "code",
   "execution_count": 12,
   "metadata": {},
   "outputs": [
    {
     "data": {
      "text/plain": [
       "0"
      ]
     },
     "execution_count": 12,
     "metadata": {},
     "output_type": "execute_result"
    }
   ],
   "source": [
    "import os\n",
    "\n",
    "# Paths to the files you want to compare\n",
    "file1 = './Binho_Supernova_Demo.txt'\n",
    "file2 = './I2C_Read_Binho_Supernova_Demo.txt'\n",
    "\n",
    "# Command to open VSCode with the diff view\n",
    "command = f'code --diff {file1} {file2}'\n",
    "\n",
    "# Execute the command\n",
    "os.system(command)"
   ]
  }
 ],
 "metadata": {
  "kernelspec": {
   "display_name": "Python 3",
   "language": "python",
   "name": "python3"
  },
  "language_info": {
   "codemirror_mode": {
    "name": "ipython",
    "version": 3
   },
   "file_extension": ".py",
   "mimetype": "text/x-python",
   "name": "python",
   "nbconvert_exporter": "python",
   "pygments_lexer": "ipython3",
   "version": "3.11.4"
  }
 },
 "nbformat": 4,
 "nbformat_minor": 2
}
